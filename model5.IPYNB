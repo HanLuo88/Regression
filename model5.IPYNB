{
 "cells": [
  {
   "cell_type": "code",
   "execution_count": 1,
   "metadata": {},
   "outputs": [],
   "source": [
    "from pandas.io.parsers import read_csv\n",
    "import medical_lib as ml\n",
    "import pandas as pd\n",
    "import numpy as np\n",
    "import time\n",
    "import warnings\n",
    "warnings.filterwarnings(\"ignore\")\n",
    "from matplotlib import pyplot as plt\n"
   ]
  },
  {
   "cell_type": "markdown",
   "metadata": {},
   "source": [
    "Model5 ist Model3v2, jedoch mit Lebenden Patienten, deren Daten möglichst lang nach OP aufgenommen wurden. Es gibt auch gleich viele Lebende wie Tote."
   ]
  },
  {
   "cell_type": "code",
   "execution_count": 8,
   "metadata": {},
   "outputs": [
    {
     "name": "stdout",
     "output_type": "stream",
     "text": [
      "114\n",
      "228\n"
     ]
    }
   ],
   "source": [
    "df = pd.read_csv('naive_latest_todesinterval_model3.csv')\n",
    "df = df.iloc[:, 1:]\n",
    "toteliste = pd.read_csv('Verstorben.csv')\n",
    "tot = toteliste['Pseudonym'].unique()\n",
    "tot = pd.read_csv('Verstorben.csv')\n",
    "\n",
    "uniquetote = tot['Pseudonym'].unique()\n",
    "print(len(uniquetote))\n",
    "df1 = df[df['Pseudonym'].isin(uniquetote)] #DF nur mit den Toten\n",
    "\n",
    "df2 = df[~df['Pseudonym'].isin(uniquetote)] #DF nur mit den Lebenden\n",
    "\n",
    "df2.sort_values(by='relatives_datum', inplace=True, ascending=False)\n",
    "df3 = df2.head(114)\n",
    "lebend = df3.Pseudonym.to_list()\n",
    "\n",
    "beides = [*uniquetote, *lebend]\n",
    "print(len(beides))\n"
   ]
  },
  {
   "cell_type": "code",
   "execution_count": 9,
   "metadata": {},
   "outputs": [
    {
     "name": "stdout",
     "output_type": "stream",
     "text": [
      "228\n"
     ]
    }
   ],
   "source": [
    "beidesDF = df[df['Pseudonym'].isin(beides)]\n",
    "print(len(beidesDF))\n",
    "beidesDF.to_csv('naive_latest_todesinterval_model5.csv')\n",
    "ohnebeidesDF = df[~df['Pseudonym'].isin(beides)]\n",
    "# print(len(ohnebeidesDF))\n",
    "# ohnebeidesDF.to_csv('naive_latest_todesinterval_model3_Test_langlebig.csv')"
   ]
  },
  {
   "cell_type": "markdown",
   "metadata": {},
   "source": [
    "Test von Model 5 mit den Features von Model 4 statt Model 3"
   ]
  },
  {
   "cell_type": "code",
   "execution_count": 3,
   "metadata": {},
   "outputs": [
    {
     "name": "stdout",
     "output_type": "stream",
     "text": [
      "114\n",
      "114\n",
      "228\n"
     ]
    }
   ],
   "source": [
    "df1 = pd.read_csv('model4.csv')\n",
    "df1 = df1.iloc[:, 1:]\n",
    "toteliste1 = pd.read_csv('Verstorben.csv')\n",
    "tot1 = toteliste1['Pseudonym'].unique()\n",
    "tot1 = pd.read_csv('Verstorben.csv')\n",
    "\n",
    "uniquetote1 = tot1['Pseudonym'].unique()\n",
    "print(len(uniquetote1))\n",
    "df2 = df1[df1['Pseudonym'].isin(uniquetote1)] #DF nur mit den Toten\n",
    "\n",
    "df3 = df1[~df1['Pseudonym'].isin(uniquetote1)] #DF nur mit den Lebenden\n",
    "\n",
    "df3.sort_values(by='relatives_datum', inplace=True, ascending=False)\n",
    "df4 = df3.head(114)\n",
    "lebend1 = df4.Pseudonym.to_list()\n",
    "print(len(lebend1))\n",
    "beides1 = [*uniquetote1, *lebend1]\n",
    "print(len(beides1))\n"
   ]
  },
  {
   "cell_type": "code",
   "execution_count": 7,
   "metadata": {},
   "outputs": [
    {
     "name": "stdout",
     "output_type": "stream",
     "text": [
      "228\n",
      "231\n"
     ]
    }
   ],
   "source": [
    "beidesDF1 = df1[df1['Pseudonym'].isin(beides1)]\n",
    "print(len(beidesDF1))\n",
    "beidesDF1.to_csv('model5_ausmodel4.csv')\n",
    "ohnebeidesDF1 = df1[~df1['Pseudonym'].isin(beides1)]\n",
    "print(len(ohnebeidesDF1))\n",
    "ohnebeidesDF1.to_csv('model5_ausmodel4_ohnebeides.csv')"
   ]
  }
 ],
 "metadata": {
  "interpreter": {
   "hash": "949777d72b0d2535278d3dc13498b2535136f6dfe0678499012e853ee9abcab1"
  },
  "kernelspec": {
   "display_name": "Python 3.9.7 64-bit",
   "language": "python",
   "name": "python3"
  },
  "language_info": {
   "codemirror_mode": {
    "name": "ipython",
    "version": 3
   },
   "file_extension": ".py",
   "mimetype": "text/x-python",
   "name": "python",
   "nbconvert_exporter": "python",
   "pygments_lexer": "ipython3",
   "version": "3.9.7"
  },
  "orig_nbformat": 4
 },
 "nbformat": 4,
 "nbformat_minor": 2
}
