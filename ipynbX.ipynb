{
 "cells": [
  {
   "cell_type": "code",
   "execution_count": 5,
   "metadata": {},
   "outputs": [
    {
     "name": "stdout",
     "output_type": "stream",
     "text": [
      "create df for pseudonym 0 ...\n",
      "create df for pseudonym 79 ...\n",
      "(937, 327)\n"
     ]
    }
   ],
   "source": [
    "import pandas as pd\n",
    "import numpy as np\n",
    "\n",
    "\"\"\"make medic dataframe\"\"\"\n",
    "def make_medic_dataframe():\n",
    "    df = pd.read_csv(\"data/common/dump_data_numeric_values_only.csv\")\n",
    "\n",
    "    # unique ABKUs\n",
    "    # uniq_ABKU = df[\"ABKU\"].unique()\n",
    "\n",
    "    uniq_pseudo =  df[\"Pseudonym\"].unique()\n",
    "\n",
    "    pseud_df_list = []\n",
    "\n",
    "    # loop all pseud in uniq_pseudo:\n",
    "    start_index = 0\n",
    "    for pseud in [0,79]: #uniq_pseudo:\n",
    "        print(\"create df for pseudonym \" + str(pseud) + \" ...\")\n",
    "        df_pseudo = df[df[\"Pseudonym\"]==pseud]\n",
    "        df_pseudo.index = range(len(df_pseudo))\n",
    "        uniq_ABKU = df_pseudo[\"ABKU\"].unique()\n",
    "\n",
    "        # pseudo_dict = {}\n",
    "        uniq_datum = df_pseudo[\"relatives_datum\"].unique()\n",
    "        datum_serie = pd.Series(uniq_datum)\n",
    "\n",
    "        pseudo_dict = {\"Pseudo\":pseud, \"relatives_datum\":datum_serie}\n",
    "\n",
    "        # find out unique pseudos\n",
    "        uniq_pseudo = df[\"Pseudonym\"].unique()\n",
    "\n",
    "        for apku in uniq_ABKU:\n",
    "            pseudo_dict[apku] = pd.Series(np.nan, index=list(range(len(uniq_datum))), dtype=\"float\")\n",
    "        \n",
    "        for index in range(start_index, start_index + len(df_pseudo)):\n",
    "            tag_i = df[\"relatives_datum\"][index]\n",
    "\n",
    "            dict_index = datum_serie[datum_serie == tag_i].index  #[1]\n",
    "            pseudo_dict[df[\"ABKU\"][index]][dict_index] = df[\"Messwert_String\"][index]\n",
    "\n",
    "        pseud_df = pd.DataFrame(pseudo_dict)\n",
    "        pseud_df_list.append(pseud_df)\n",
    "        pseud_df.to_csv(\"data/common/df_\" + str(pseud) + \".csv\", index=False)\n",
    "\n",
    "        start_index += len(df_pseudo)\n",
    "\n",
    "    df_concat_0_79 = pd.concat(pseud_df_list, axis=0, ignore_index=True)\n",
    "    df_concat_0_79.to_csv(\"data/common/df_0_79.csv\", index=False)\n",
    "    print(df_concat_0_79.shape)\n",
    "    # df_0_79 = pd.DataFrame(pseud_df_list)\n",
    "    # df_0_79.to_csv(\"data/common/df_0_79.csv\", index=False)\n",
    "\n",
    "make_medic_dataframe()"
   ]
  }
 ],
 "metadata": {
  "interpreter": {
   "hash": "d4d1e4263499bec80672ea0156c357c1ee493ec2b1c70f0acce89fc37c4a6abe"
  },
  "kernelspec": {
   "display_name": "Python 3.9.5 64-bit ('base': conda)",
   "language": "python",
   "name": "python3"
  },
  "language_info": {
   "codemirror_mode": {
    "name": "ipython",
    "version": 3
   },
   "file_extension": ".py",
   "mimetype": "text/x-python",
   "name": "python",
   "nbconvert_exporter": "python",
   "pygments_lexer": "ipython3",
   "version": "3.9.7"
  },
  "orig_nbformat": 4
 },
 "nbformat": 4,
 "nbformat_minor": 2
}
