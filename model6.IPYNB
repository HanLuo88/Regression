{
 "cells": [
  {
   "cell_type": "code",
   "execution_count": 2,
   "metadata": {},
   "outputs": [],
   "source": [
    "import medical_lib as ml\n",
    "import pandas as pd\n",
    "import numpy as np\n",
    "import time\n",
    "import warnings\n",
    "warnings.filterwarnings(\"ignore\")\n",
    "from matplotlib import pyplot as plt"
   ]
  },
  {
   "cell_type": "code",
   "execution_count": 3,
   "metadata": {},
   "outputs": [],
   "source": [
    "intervalle = [(0, 30), (31, 60), (91, 180),(181, 365), (366, 800), (801, 1650)]\n",
    "df = pd.read_csv('model2_Classificationtable_intervalstatus_m6.csv')\n",
    "df = df.iloc[:, 1:]\n",
    "totdf = pd.read_csv('Verstorben.csv')\n",
    "totdf = totdf.iloc[:, 1:]\n",
    "\n",
    "unitot = totdf['Pseudonym'].unique()\n"
   ]
  },
  {
   "cell_type": "markdown",
   "metadata": {},
   "source": [
    "Pro Intervall die Pseudonyme in ein Dataframe zwischenspeichern"
   ]
  },
  {
   "cell_type": "code",
   "execution_count": 36,
   "metadata": {},
   "outputs": [
    {
     "name": "stdout",
     "output_type": "stream",
     "text": [
      "252\n"
     ]
    }
   ],
   "source": [
    "dfintervalAll = df[df['relatives_datum'].between(0, 30)]\n",
    "dfintervalTot = dfintervalAll[dfintervalAll['Pseudonym'].isin(unitot)]\n",
    "dfintervalLebend = dfintervalAll[~dfintervalAll['Pseudonym'].isin(unitot)]\n",
    "\n",
    "#80% der Toten für Training nehmen\n",
    "anzahl_train_tot = int(len(dfintervalTot) * 0.8)\n",
    "tot_train = dfintervalTot.iloc[0:anzahl_train_tot, :]\n",
    "lebend_train = dfintervalLebend.iloc[0:anzahl_train_tot, :]\n",
    "#dementsprechent 20% der Toten für Predicten\n",
    "anzahl_test_tot = int(len(dfintervalTot) * 0.2)\n",
    "tot_test = dfintervalTot.iloc[0:anzahl_test_tot, :]\n",
    "lebend_train = dfintervalLebend.iloc[anzahl_train_tot:-1, :]\n",
    "print(len(lebend_train))\n",
    "\n",
    "\n",
    "\n",
    "\n",
    "\n",
    "# lebend = dfintervalLebend.iloc[0:90, :]\n",
    "# trainlist = [lebend, tot]\n",
    "\n",
    "# dfintervallTrain = pd.concat(trainlist)\n",
    "# dfintervallTrain.sort_values(by='Pseudonym')\n",
    "# dfintervallTrain.reset_index(inplace=True)\n",
    "# dfintervallTrain = dfintervallTrain.iloc[:, 1:]\n",
    "# print(dfintervallTrain)\n",
    "\n"
   ]
  }
 ],
 "metadata": {
  "interpreter": {
   "hash": "949777d72b0d2535278d3dc13498b2535136f6dfe0678499012e853ee9abcab1"
  },
  "kernelspec": {
   "display_name": "Python 3.9.7 64-bit",
   "language": "python",
   "name": "python3"
  },
  "language_info": {
   "codemirror_mode": {
    "name": "ipython",
    "version": 3
   },
   "file_extension": ".py",
   "mimetype": "text/x-python",
   "name": "python",
   "nbconvert_exporter": "python",
   "pygments_lexer": "ipython3",
   "version": "3.9.7"
  },
  "orig_nbformat": 4
 },
 "nbformat": 4,
 "nbformat_minor": 2
}
