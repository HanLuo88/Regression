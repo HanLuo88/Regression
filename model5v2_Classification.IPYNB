{
 "cells": [
  {
   "cell_type": "code",
   "execution_count": 1,
   "metadata": {},
   "outputs": [],
   "source": [
    "import math\n",
    "import warnings\n",
    "warnings.filterwarnings(\"ignore\")\n",
    "import numpy as np\n",
    "import pandas as pd\n",
    "import medical_lib as ml\n",
    "from sklearn.neighbors import KNeighborsClassifier\n",
    "from sklearn.metrics import accuracy_score\n",
    "from xgboost import XGBClassifier\n",
    "from matplotlib import pyplot\n",
    "from sklearn.linear_model import LogisticRegression\n",
    "from sklearn.tree import DecisionTreeClassifier\n",
    "from sklearn.ensemble import RandomForestClassifier\n",
    "from sklearn.ensemble import AdaBoostClassifier\n",
    "from sklearn.metrics import precision_score\n",
    "from sklearn.metrics import f1_score\n",
    "from sklearn.metrics import recall_score\n",
    "from xgboost import plot_importance\n",
    "from sklearn.model_selection import train_test_split"
   ]
  },
  {
   "cell_type": "markdown",
   "metadata": {},
   "source": [
    "Einlesen der Trainingsdaten"
   ]
  },
  {
   "cell_type": "code",
   "execution_count": 4,
   "metadata": {},
   "outputs": [],
   "source": [
    "traindata = pd.read_csv('naive_latest_todesinterval_model3_Train_langlebig.csv') \n",
    "traindata = traindata.iloc[:, 3:] \n",
    "traindata = traindata.sample(frac=1, random_state=42).reset_index(drop=True) #Shuffle Rows and Reset Index\n",
    "train_features = traindata.iloc[:, :-1]\n",
    "train_class = traindata.iloc[:, -1]\n",
    "\n",
    "testdata = pd.read_csv('naive_latest_todesinterval_model3_Test_langlebig.csv') \n",
    "testdata = testdata.iloc[:, 3:] \n",
    "testdata = testdata.sample(frac=1, random_state=42).reset_index(drop=True)\n",
    "\n",
    "test_features = testdata.iloc[:, :-1]\n",
    "test_class = testdata.iloc[:, -1]\n",
    "test_class_array = np.array(test_class)\n",
    "\n",
    "result = pd.read_csv('automated_algorithmen.csv')\n",
    "result = result.iloc[:, 1:]"
   ]
  },
  {
   "cell_type": "markdown",
   "metadata": {},
   "source": [
    "KNN"
   ]
  },
  {
   "cell_type": "code",
   "execution_count": 5,
   "metadata": {},
   "outputs": [
    {
     "name": "stdout",
     "output_type": "stream",
     "text": [
      "KNN Accuracy:  0.6953405017921147 KNN Precision:  0.8900000082795781 KNN Recall:  0.6953405017921147 KNN F1-Score:  0.7744503862150921\n",
      "Tatsächlich:  0.7419354838709677 0.21428571428571427 0.75 0.3333333333333333\n",
      "Durchschnittliche Abweichung:  0.8422939068100358\n",
      "Standartabweichung der Abweichung:  1.3744479920296782\n"
     ]
    }
   ],
   "source": [
    "medKNN = KNeighborsClassifier(n_neighbors=4)\n",
    "medKNN.fit(train_features,train_class)\n",
    "knnYpred = medKNN.predict(test_features)\n",
    "accuracyKNN = accuracy_score(test_class, knnYpred)\n",
    "precisionKNN = precision_score(test_class, knnYpred, average='weighted')\n",
    "recallKNN = recall_score(test_class, knnYpred, average='weighted')\n",
    "f1scoreKNN = f1_score(test_class, knnYpred, average='weighted')\n",
    "print('KNN Accuracy: ', accuracyKNN, 'KNN Precision: ', precisionKNN, 'KNN Recall: ', recallKNN, 'KNN F1-Score: ', f1scoreKNN )\n",
    "pred_tot_lebendigknn = []\n",
    "actual_tot_lebendigknn = []\n",
    "abweichungknn = []\n",
    "for el in range(0, len(knnYpred)):\n",
    "    dist = abs(knnYpred[el] - test_class_array[el])\n",
    "    abweichungknn.append(dist)\n",
    "    if knnYpred[el] < 7:\n",
    "        pred_tot_lebendigknn.append(1)\n",
    "    else: \n",
    "        pred_tot_lebendigknn.append(0)\n",
    "    if test_class_array[el] < 7:\n",
    "        actual_tot_lebendigknn.append(1)\n",
    "    else:\n",
    "        actual_tot_lebendigknn.append(0)\n",
    "accuracyknn, precisionknn, recallknn, f1scoreknn = ml.scoring(pred_tot_lebendigknn, actual_tot_lebendigknn)\n",
    "print('Tatsächlich: ', accuracyknn, precisionknn, recallknn, f1scoreknn)\n",
    "print('Durchschnittliche Abweichung: ', np.mean(abweichungknn))\n",
    "print('Standartabweichung der Abweichung: ', np.std(abweichungknn))\n",
    "# index = result.index[result['Modellierung'] == 'Model_5_version_2'].tolist()\n",
    "# result.at[index, 'KNN_precision'] = precisionknn\n",
    "# result.at[index, 'KNN_recall'] = recallknn\n",
    "# result.at[index, 'KNN_f1'] = f1scoreknn\n",
    "# result.to_csv('automated_algorithmen.csv')"
   ]
  }
 ],
 "metadata": {
  "interpreter": {
   "hash": "949777d72b0d2535278d3dc13498b2535136f6dfe0678499012e853ee9abcab1"
  },
  "kernelspec": {
   "display_name": "Python 3.9.7 64-bit",
   "language": "python",
   "name": "python3"
  },
  "language_info": {
   "codemirror_mode": {
    "name": "ipython",
    "version": 3
   },
   "file_extension": ".py",
   "mimetype": "text/x-python",
   "name": "python",
   "nbconvert_exporter": "python",
   "pygments_lexer": "ipython3",
   "version": "3.9.7"
  },
  "orig_nbformat": 4
 },
 "nbformat": 4,
 "nbformat_minor": 2
}
