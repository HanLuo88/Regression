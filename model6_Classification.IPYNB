{
 "cells": [
  {
   "cell_type": "code",
   "execution_count": 513,
   "metadata": {},
   "outputs": [],
   "source": [
    "import medical_lib as ml\n",
    "import pandas as pd\n",
    "import numpy as np\n",
    "import time\n",
    "import warnings\n",
    "warnings.filterwarnings(\"ignore\")\n",
    "from matplotlib import pyplot as plt\n",
    "from sklearn import utils\n",
    "import math\n",
    "import warnings\n",
    "warnings.filterwarnings(\"ignore\")\n",
    "import numpy as np\n",
    "import pandas as pd\n",
    "import medical_lib as ml\n",
    "from sklearn.neighbors import KNeighborsClassifier\n",
    "from sklearn.metrics import accuracy_score\n",
    "from xgboost import XGBClassifier\n",
    "from matplotlib import pyplot\n",
    "from sklearn.linear_model import LogisticRegression\n",
    "from sklearn.tree import DecisionTreeClassifier\n",
    "from sklearn.ensemble import RandomForestClassifier\n",
    "from sklearn.ensemble import AdaBoostClassifier\n",
    "from sklearn.metrics import precision_score\n",
    "from sklearn.metrics import f1_score\n",
    "from sklearn.metrics import recall_score\n",
    "from xgboost import plot_importance\n",
    "from sklearn.model_selection import train_test_split"
   ]
  },
  {
   "cell_type": "code",
   "execution_count": 527,
   "metadata": {},
   "outputs": [],
   "source": [
    "intervalle = [(0, 30), (31, 60), (61, 180),(181, 365), (366, 800), (801, 1650)]\n",
    "df = pd.read_csv('model2_Classificationtable_intervalstatus_m6.csv')\n",
    "df = df.iloc[:, 1:]\n",
    "df = utils.shuffle(df, random_state=1)\n",
    "df.reset_index(drop=True)\n",
    "totdf = pd.read_csv('Verstorben.csv')\n",
    "totdf = totdf.iloc[:, 1:]\n",
    "unitot = totdf['Pseudonym'].unique()"
   ]
  },
  {
   "cell_type": "markdown",
   "metadata": {},
   "source": [
    "Pro Intervall die Pseudonyme in ein Dataframe zwischenspeichern"
   ]
  },
  {
   "cell_type": "code",
   "execution_count": 568,
   "metadata": {},
   "outputs": [
    {
     "name": "stdout",
     "output_type": "stream",
     "text": [
      "221\n"
     ]
    }
   ],
   "source": [
    "def makeClassificationtablesM6(dataframe, uniquetote,left, right):\n",
    "    dfintervalAll = dataframe[dataframe['relatives_datum'].between(left, right)]\n",
    "    print(len(dfintervalAll))\n",
    "    dfintervalTot = dfintervalAll[dfintervalAll['Pseudonym'].isin(uniquetote)]\n",
    "    \n",
    "    dfintervalLebend = dfintervalAll[~dfintervalAll['Pseudonym'].isin(uniquetote)]\n",
    "    \n",
    "\n",
    "    #80% der Toten für Training nehmen\n",
    "    anzahl_train_tot = int(len(dfintervalTot) * 0.8)\n",
    "    anzahl_train_lebend = int(len(dfintervalLebend) * 0.8)\n",
    "    tot_train = dfintervalTot.iloc[0:(anzahl_train_tot+1), :]\n",
    "    lebend_train = dfintervalLebend.iloc[0:(anzahl_train_lebend+1), :]\n",
    "   \n",
    "    #dementsprechent 20% der Toten für Predicten\n",
    "    tot_test = dfintervalTot.iloc[anzahl_train_tot:-1, :]\n",
    "    lebend_test = dfintervalLebend.iloc[anzahl_train_lebend:-1, :]\n",
    "\n",
    "    train = pd.concat([tot_train, lebend_train])\n",
    "    train = utils.shuffle(train, random_state=1)\n",
    "    train.reset_index(drop=True)\n",
    "    test = pd.concat([tot_test, lebend_test])\n",
    "    test = utils.shuffle(test, random_state=1)\n",
    "    test.reset_index(drop=True)\n",
    "    \n",
    "    return train, test\n",
    "\n",
    "traindf, testdf = makeClassificationtablesM6(df, unitot, intervalle[5][0], intervalle[5][1])\n",
    "\n"
   ]
  },
  {
   "cell_type": "code",
   "execution_count": 569,
   "metadata": {},
   "outputs": [
    {
     "name": "stdout",
     "output_type": "stream",
     "text": [
      "43\n"
     ]
    }
   ],
   "source": [
    "train_features = traindf.iloc[:, 2:-1]\n",
    "train_class = traindf.iloc[:, -1]\n",
    "test_features = testdf.iloc[:, 2:-1]\n",
    "test_class = testdf.iloc[:, -1]\n",
    "test_class_array = test_class.to_numpy()\n",
    "result = pd.read_csv('automated_algorithmen.csv')\n",
    "result = result.iloc[:, 1:]\n",
    "print(len(test_features))"
   ]
  },
  {
   "cell_type": "markdown",
   "metadata": {},
   "source": [
    "Classification"
   ]
  },
  {
   "cell_type": "markdown",
   "metadata": {},
   "source": [
    "KNN"
   ]
  },
  {
   "cell_type": "code",
   "execution_count": 578,
   "metadata": {},
   "outputs": [
    {
     "name": "stdout",
     "output_type": "stream",
     "text": [
      "KNN Accuracy:  0.9767441860465116 KNN Precision:  0.9844961240310078 KNN Recall:  0.9767441860465116 KNN F1-Score:  0.97892621303474\n",
      "Tatsächlich:  0.9767441860465116 0.6666666666666666 1.0 0.8\n",
      "Durchschnittliche Abweichung:  0.023255813953488372\n",
      "Standartabweichung der Abweichung:  0.1507148999629735\n"
     ]
    }
   ],
   "source": [
    "#Für Intervall 5 muss Neighbours auf 2 gesetzt werden. Andernfalls teilt man durch 0\n",
    "medKNN = KNeighborsClassifier(n_neighbors=2)\n",
    "medKNN.fit(train_features,train_class)\n",
    "knnYpred = medKNN.predict(test_features)\n",
    "accuracyKNN = accuracy_score(test_class, knnYpred)\n",
    "precisionKNN = precision_score(test_class, knnYpred, average='weighted')\n",
    "recallKNN = recall_score(test_class, knnYpred, average='weighted')\n",
    "f1scoreKNN = f1_score(test_class, knnYpred, average='weighted')\n",
    "print('KNN Accuracy: ', accuracyKNN, 'KNN Precision: ', precisionKNN, 'KNN Recall: ', recallKNN, 'KNN F1-Score: ', f1scoreKNN )\n",
    "pred_tot_lebendigknn = []\n",
    "actual_tot_lebendigknn = []\n",
    "abweichungknn = []\n",
    "for el in range(0, len(knnYpred)):\n",
    "    dist = abs(knnYpred[el] - test_class_array[el])\n",
    "    abweichungknn.append(dist)\n",
    "    if knnYpred[el] < 7:\n",
    "        pred_tot_lebendigknn.append(1)\n",
    "    else: \n",
    "        pred_tot_lebendigknn.append(0)\n",
    "    if test_class_array[el] < 7:\n",
    "        actual_tot_lebendigknn.append(1)\n",
    "    else:\n",
    "        actual_tot_lebendigknn.append(0)\n",
    "accuracyknn, precisionknn, recallknn, f1scoreknn = ml.scoring(pred_tot_lebendigknn, actual_tot_lebendigknn)\n",
    "print('Tatsächlich: ', accuracyknn, precisionknn, recallknn, f1scoreknn)\n",
    "print('Durchschnittliche Abweichung: ', np.mean(abweichungknn))\n",
    "print('Standartabweichung der Abweichung: ', np.std(abweichungknn))\n",
    "index = result.index[result['Modellierung'] == 'Model_6_801_1650'].tolist()\n",
    "result.at[index, 'KNN_precision'] = precisionknn\n",
    "result.at[index, 'KNN_recall'] = recallknn\n",
    "result.at[index, 'KNN_f1'] = f1scoreknn\n",
    "result.to_csv('automated_algorithmen.csv')"
   ]
  },
  {
   "cell_type": "code",
   "execution_count": 571,
   "metadata": {},
   "outputs": [
    {
     "name": "stdout",
     "output_type": "stream",
     "text": [
      "Log-Regression Accuracy:  0.9302325581395349 Log-Regression Precision:  0.9451550387596899 Log-Regression Recall:  0.9302325581395349 Log-Regression F1-Score:  0.9367786391042204\n",
      "Tatsächlich:  0.9302325581395349 0.3333333333333333 0.5 0.4\n",
      "Durchschnittliche Abweichung:  0.06976744186046512\n",
      "Standartabweichung der Abweichung:  0.2547546779093796\n"
     ]
    }
   ],
   "source": [
    "lr_model = LogisticRegression()\n",
    "lr_model.fit(train_features,train_class)\n",
    "lr_y_pred = lr_model.predict(test_features)\n",
    "lr_accuracyLogReg = accuracy_score(test_class, lr_y_pred)\n",
    "lr_precisionLogReg = precision_score(test_class, lr_y_pred, average='weighted')\n",
    "lr_recallLogReg = recall_score(test_class, lr_y_pred, average='weighted')\n",
    "lr_f1scoreLogReg = f1_score(test_class, lr_y_pred, average='weighted')\n",
    "print('Log-Regression Accuracy: ', lr_accuracyLogReg, 'Log-Regression Precision: ', lr_precisionLogReg, 'Log-Regression Recall: ', lr_recallLogReg, 'Log-Regression F1-Score: ', lr_f1scoreLogReg )\n",
    "pred_tot_lebendiglr = []\n",
    "actual_tot_lebendiglr = []\n",
    "abweichunglr = []\n",
    "for el in range(0, len(lr_y_pred)):\n",
    "    dist = abs(lr_y_pred[el] - test_class_array[el])\n",
    "    abweichunglr.append(dist)\n",
    "    if lr_y_pred[el] < 7:\n",
    "        pred_tot_lebendiglr.append(1)\n",
    "    else: \n",
    "        pred_tot_lebendiglr.append(0)\n",
    "    if test_class_array[el] < 7:\n",
    "        actual_tot_lebendiglr.append(1)\n",
    "    else:\n",
    "        actual_tot_lebendiglr.append(0)\n",
    "accuracylr, precisionlr, recalllr, f1scorelr = ml.scoring(pred_tot_lebendiglr, actual_tot_lebendiglr)\n",
    "print('Tatsächlich: ', accuracylr, precisionlr, recalllr, f1scorelr)\n",
    "print('Durchschnittliche Abweichung: ', np.mean(abweichunglr))\n",
    "print('Standartabweichung der Abweichung: ', np.std(abweichunglr))\n",
    "index = result.index[result['Modellierung'] == 'Model_6_801_1650'].tolist()\n",
    "result.at[index, 'Logistic_Regression_precision'] = precisionlr\n",
    "result.at[index, 'Logistic_Regression_recall'] = recalllr\n",
    "result.at[index, 'Logistic_Regression_f1'] = f1scorelr\n",
    "result.to_csv('automated_algorithmen.csv')"
   ]
  },
  {
   "cell_type": "code",
   "execution_count": 572,
   "metadata": {},
   "outputs": [
    {
     "name": "stdout",
     "output_type": "stream",
     "text": [
      "medical_DecTree Accuracy:  0.9302325581395349 DecTree Precision:  0.9451550387596899 DecTree Recall:  0.9302325581395349 DecTree F1-Score:  0.9367786391042204\n",
      "Tatsächlich:  0.9302325581395349 0.3333333333333333 0.5 0.4\n",
      "Durchschnittliche Abweichung:  0.06976744186046512\n",
      "Standartabweichung der Abweichung:  0.2547546779093796\n"
     ]
    }
   ],
   "source": [
    "medical_DecTree = DecisionTreeClassifier(random_state=15)\n",
    "medical_DecTree = medical_DecTree.fit(train_features,train_class)\n",
    "decTree_pred = medical_DecTree.predict(test_features)\n",
    "accuracyDecTree = accuracy_score(test_class, decTree_pred)\n",
    "precisionDecTree = precision_score(test_class, decTree_pred, average='weighted')\n",
    "recallDecTree = recall_score(test_class, decTree_pred, average='weighted')\n",
    "f1scoreDecTree = f1_score(test_class, decTree_pred, average='weighted')\n",
    "print('medical_DecTree Accuracy: ', accuracyDecTree, 'DecTree Precision: ', precisionDecTree, 'DecTree Recall: ', recallDecTree, 'DecTree F1-Score: ', f1scoreDecTree )\n",
    "pred_tot_lebendigdc = []\n",
    "actual_tot_lebendigdc = []\n",
    "abweichungdc = []\n",
    "for el in range(0, len(decTree_pred)):\n",
    "    dist = abs(decTree_pred[el] - test_class_array[el])\n",
    "    abweichungdc.append(dist)\n",
    "    if decTree_pred[el] < 7:\n",
    "        pred_tot_lebendigdc.append(1)\n",
    "    else: \n",
    "        pred_tot_lebendigdc.append(0)\n",
    "    if test_class_array[el] < 7:\n",
    "        actual_tot_lebendigdc.append(1)\n",
    "    else:\n",
    "        actual_tot_lebendigdc.append(0)\n",
    "accuracydc, precisiondc, recalldc, f1scoredc = ml.scoring(pred_tot_lebendigdc, actual_tot_lebendigdc)\n",
    "print('Tatsächlich: ', accuracydc, precisiondc, recalldc, f1scoredc)\n",
    "print('Durchschnittliche Abweichung: ', np.mean(abweichungdc))\n",
    "print('Standartabweichung der Abweichung: ', np.std(abweichungdc))\n",
    "index = result.index[result['Modellierung'] == 'Model_6_801_1650'].tolist()\n",
    "result.at[index, 'Decision_Tree_precision'] = precisiondc\n",
    "result.at[index, 'Decision_Tree_recall'] = recalldc\n",
    "result.at[index, 'Decision_Tree_f1'] = f1scoredc\n",
    "result.to_csv('automated_algorithmen.csv')\n"
   ]
  },
  {
   "cell_type": "code",
   "execution_count": 573,
   "metadata": {},
   "outputs": [
    {
     "name": "stdout",
     "output_type": "stream",
     "text": [
      "Anzahl Estimator: 100  RF Accuracy:  0.9302325581395349 RF Precision:  0.9451550387596899 RF Recall:  0.9302325581395349 RF F1-Score:  0.9367786391042204\n",
      "Tatsächlich:  0.9302325581395349 0.3333333333333333 0.5 0.4\n",
      "Durchschnittliche Abweichung:  0.06976744186046512\n",
      "Standartabweichung der Abweichung:  0.2547546779093796\n"
     ]
    }
   ],
   "source": [
    "medical_RF = RandomForestClassifier(random_state=43)\n",
    "medical_RF.fit(train_features,train_class)\n",
    "rfPred = medical_RF.predict(test_features)\n",
    "accuracyRF = accuracy_score(test_class, rfPred)\n",
    "precisionRF = precision_score(test_class, rfPred, average='weighted')\n",
    "recallRF = recall_score(test_class, rfPred, average='weighted')\n",
    "f1scoreRF = f1_score(test_class, rfPred, average='weighted')\n",
    "print('Anzahl Estimator: 100 ', 'RF Accuracy: ', accuracyRF, 'RF Precision: ', precisionRF, 'RF Recall: ', recallRF, 'RF F1-Score: ', f1scoreRF )\n",
    "pred_tot_lebendigrf = []\n",
    "actual_tot_lebendigrf = []\n",
    "abweichungrf = []\n",
    "for el in range(0, len(rfPred)):\n",
    "    dist = abs(rfPred[el] - test_class_array[el])\n",
    "    abweichungrf.append(dist)\n",
    "    if rfPred[el] < 7:\n",
    "        pred_tot_lebendigrf.append(1)\n",
    "    else: \n",
    "        pred_tot_lebendigrf.append(0)\n",
    "    if test_class_array[el] < 7:\n",
    "        actual_tot_lebendigrf.append(1)\n",
    "    else:\n",
    "        actual_tot_lebendigrf.append(0)\n",
    "try:\n",
    "    accuracyrf, precisionrf, recallrf, f1scorerf = ml.scoring(pred_tot_lebendigrf, actual_tot_lebendigrf)\n",
    "except:\n",
    "    precisionrf = 0\n",
    "print('Tatsächlich: ', accuracyrf, precisionrf, recallrf, f1scorerf)\n",
    "print('Durchschnittliche Abweichung: ', np.mean(abweichungrf))\n",
    "print('Standartabweichung der Abweichung: ', np.std(abweichungrf))\n",
    "index = result.index[result['Modellierung'] == 'Model_6_801_1650'].tolist()\n",
    "result.at[index, 'Random_Forest_precision'] = precisionrf\n",
    "result.at[index, 'Random_Forest_recall'] = recallrf\n",
    "result.at[index, 'Random_Forest_f1'] = f1scorerf\n",
    "result.to_csv('automated_algorithmen.csv')\n"
   ]
  },
  {
   "cell_type": "code",
   "execution_count": 574,
   "metadata": {},
   "outputs": [
    {
     "name": "stdout",
     "output_type": "stream",
     "text": [
      "ADABOOST:  Accuracy:  0.9534883720930233 Precision:  0.9534883720930233 Recall:  0.9534883720930233 f1-Score:  0.9534883720930233\n",
      "Tatsächlich:  0.9534883720930233 0.5 0.5 0.5\n",
      "Durchschnittliche Abweichung:  0.046511627906976744\n",
      "Standartabweichung der Abweichung:  0.21059035204970736\n"
     ]
    }
   ],
   "source": [
    "adamodel = AdaBoostClassifier()\n",
    "adamodel.fit(train_features,train_class)\n",
    "adamodel_prediction = adamodel.predict(test_features)\n",
    "adamodel_accuracy = accuracy_score(test_class, adamodel_prediction)\n",
    "adamodel_precision = precision_score(test_class, adamodel_prediction, average='weighted')\n",
    "adamodel_recall = recall_score(test_class, adamodel_prediction, average='weighted')\n",
    "adamodel_f1 = f1_score(test_class, adamodel_prediction, average='weighted')\n",
    "print('ADABOOST: ', 'Accuracy: ', adamodel_accuracy,'Precision: ', adamodel_precision,'Recall: ', adamodel_recall,'f1-Score: ', adamodel_f1)\n",
    "pred_tot_lebendigada = []\n",
    "actual_tot_lebendigada = []\n",
    "abweichungada = []\n",
    "for el in range(0, len(adamodel_prediction)):\n",
    "    dist = abs(adamodel_prediction[el] - test_class_array[el])\n",
    "    abweichungada.append(dist)\n",
    "    if adamodel_prediction[el] < 7:\n",
    "        pred_tot_lebendigada.append(1)\n",
    "    else: \n",
    "        pred_tot_lebendigada.append(0)\n",
    "    if test_class_array[el] < 7:\n",
    "        actual_tot_lebendigada.append(1)\n",
    "    else:\n",
    "        actual_tot_lebendigada.append(0)\n",
    "accuracyada, precisionada, recallada, f1scoreada = ml.scoring(pred_tot_lebendigada, actual_tot_lebendigada)\n",
    "print('Tatsächlich: ', accuracyada, precisionada, recallada, f1scoreada)\n",
    "print('Durchschnittliche Abweichung: ', np.mean(abweichungada))\n",
    "print('Standartabweichung der Abweichung: ', np.std(abweichungada))\n",
    "index = result.index[result['Modellierung'] == 'Model_6_801_1650'].tolist()\n",
    "result.at[index, 'ADABoost_precision'] = precisionada\n",
    "result.at[index, 'ADABoost_recall'] = recallada\n",
    "result.at[index, 'ADABoost_f1'] = f1scoreada\n",
    "result.to_csv('automated_algorithmen.csv')"
   ]
  },
  {
   "cell_type": "code",
   "execution_count": 575,
   "metadata": {},
   "outputs": [
    {
     "name": "stdout",
     "output_type": "stream",
     "text": [
      "XGBOOST:  Accuracy:  0.9534883720930233 Precision:  0.9534883720930233 Recall:  0.9534883720930233 F1-Score:  0.9534883720930233\n",
      "Tatsächlich:  0.9534883720930233 0.5 0.5 0.5\n",
      "Durchschnittliche Abweichung:  0.046511627906976744\n",
      "Standartabweichung der Abweichung:  0.21059035204970736\n",
      "#################################################################################################\n"
     ]
    }
   ],
   "source": [
    "xgmodel = XGBClassifier(eval_metric='error')\n",
    "xgmodel.fit(train_features,train_class)\n",
    "xgboosted_prediction = xgmodel.predict(test_features)\n",
    "xgboosted_accuracy = accuracy_score(test_class, xgboosted_prediction)\n",
    "xgboosted_precision = precision_score(test_class, xgboosted_prediction, average='weighted')\n",
    "xgboosted_recall = recall_score(test_class, xgboosted_prediction, average='weighted')\n",
    "xgboosted_f1 = f1_score(test_class, xgboosted_prediction, average='weighted')\n",
    "print('XGBOOST: ', 'Accuracy: ', xgboosted_accuracy, 'Precision: ', xgboosted_precision, 'Recall: ', xgboosted_recall, 'F1-Score: ', xgboosted_f1)\n",
    "pred_tot_lebendigxg = []\n",
    "actual_tot_lebendigxg = []\n",
    "abweichungxg = []\n",
    "for el in range(0, len(xgboosted_prediction)):\n",
    "    dist = abs(xgboosted_prediction[el] - test_class_array[el])\n",
    "    abweichungxg.append(dist)\n",
    "    if xgboosted_prediction[el] < 7:\n",
    "        pred_tot_lebendigxg.append(1)\n",
    "    else: \n",
    "        pred_tot_lebendigxg.append(0)\n",
    "    if test_class_array[el] < 7:\n",
    "        actual_tot_lebendigxg.append(1)\n",
    "    else:\n",
    "        actual_tot_lebendigxg.append(0)\n",
    "accuracyxg, precisionxg, recallxg, f1scorexg = ml.scoring(pred_tot_lebendigxg, actual_tot_lebendigxg)\n",
    "print('Tatsächlich: ', accuracyxg, precisionxg, recallxg, f1scorexg)\n",
    "print('Durchschnittliche Abweichung: ', np.mean(abweichungxg))\n",
    "print('Standartabweichung der Abweichung: ', np.std(abweichungxg))\n",
    "print('#################################################################################################')\n",
    "index = result.index[result['Modellierung'] == 'Model_6_801_1650'].tolist()\n",
    "result.at[index, 'XGBoost_precision'] = precisionxg\n",
    "result.at[index, 'XGBoost_recall'] = recallxg\n",
    "result.at[index, 'XGBoost_f1'] = f1scorexg\n",
    "result.to_csv('automated_algorithmen.csv')"
   ]
  },
  {
   "cell_type": "code",
   "execution_count": 576,
   "metadata": {},
   "outputs": [
    {
     "data": {
      "image/png": "[encoded data removed]",
      "text/plain": [
       "<Figure size 1080x1080 with 1 Axes>"
      ]
     },
     "metadata": {
      "needs_background": "light"
     },
     "output_type": "display_data"
    }
   ],
   "source": [
    "featureranking = sorted((value, key) for (key, value) in xgmodel.get_booster().get_score(importance_type = 'gain').items())\n",
    "pyplot.rcParams['figure.figsize'] = [15,15]\n",
    "newfeatures = []\n",
    "plot_importance(xgmodel.get_booster().get_score(importance_type= 'gain'))\n",
    "pyplot.show()"
   ]
  },
  {
   "cell_type": "markdown",
   "metadata": {},
   "source": [
    "Nach Feature-Selection: Einlesen der Daten"
   ]
  },
  {
   "cell_type": "code",
   "execution_count": null,
   "metadata": {},
   "outputs": [],
   "source": []
  }
 ],
 "metadata": {
  "interpreter": {
   "hash": "949777d72b0d2535278d3dc13498b2535136f6dfe0678499012e853ee9abcab1"
  },
  "kernelspec": {
   "display_name": "Python 3.9.7 64-bit",
   "language": "python",
   "name": "python3"
  },
  "language_info": {
   "codemirror_mode": {
    "name": "ipython",
    "version": 3
   },
   "file_extension": ".py",
   "mimetype": "text/x-python",
   "name": "python",
   "nbconvert_exporter": "python",
   "pygments_lexer": "ipython3",
   "version": "3.9.7"
  },
  "orig_nbformat": 4
 },
 "nbformat": 4,
 "nbformat_minor": 2
}
