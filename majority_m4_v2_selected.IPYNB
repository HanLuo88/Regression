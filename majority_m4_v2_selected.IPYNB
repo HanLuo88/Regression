{
 "cells": [
  {
   "cell_type": "code",
   "execution_count": 1,
   "metadata": {},
   "outputs": [],
   "source": [
    "import math\n",
    "import warnings\n",
    "import sys\n",
    "from numpy.lib.function_base import average\n",
    "from sklearn.utils import multiclass\n",
    "from xgboost.sklearn import XGBRFClassifier\n",
    "warnings.filterwarnings(\"ignore\")\n",
    "import numpy as np\n",
    "from statistics import mean, mode\n",
    "import pandas as pd\n",
    "import medical_lib as ml\n",
    "from sklearn.model_selection import train_test_split, cross_val_score\n",
    "from sklearn.neighbors import KNeighborsClassifier\n",
    "from sklearn.metrics import accuracy_score\n",
    "from xgboost import XGBClassifier\n",
    "from sklearn.ensemble import AdaBoostClassifier\n",
    "from xgboost import plot_importance\n",
    "from matplotlib import pyplot\n",
    "from xgboost.core import Booster\n",
    "from sklearn.linear_model import LogisticRegression\n",
    "from sklearn import svm\n",
    "from sklearn.tree import DecisionTreeClassifier\n",
    "from sklearn.ensemble import RandomForestClassifier\n",
    "from sklearn.ensemble import IsolationForest\n",
    "from numpy import sort\n",
    "from sklearn.feature_selection import SelectFromModel\n",
    "from sklearn.metrics import precision_score\n",
    "from sklearn.metrics import f1_score\n",
    "from sklearn.metrics import recall_score\n",
    "from sklearn.metrics import precision_recall_fscore_support as score"
   ]
  },
  {
   "cell_type": "markdown",
   "metadata": {},
   "source": [
    "Einlesen der Daten"
   ]
  },
  {
   "cell_type": "code",
   "execution_count": 3,
   "metadata": {},
   "outputs": [],
   "source": [
    "df_majority_m4 = pd.read_csv('model4_v2_Selected.csv') \n",
    "df_majority_m4_copy = df_majority_m4.copy()\n",
    "df_majority_m4_copy = df_majority_m4_copy.iloc[:, 1:]\n",
    "#################################################################################################\n",
    "med_class_model4_maj = df_majority_m4_copy.iloc[:, -1]\n",
    "med_features_model4_maj = df_majority_m4_copy.iloc[:, :-1]\n",
    "\n",
    "# Aufteilen der Daten in 4 Untersets\n",
    "med_features_train_model4_maj, med_features_test_model4_maj, med_class_train_model4_maj, med_class_test_model4_maj = train_test_split(med_features_model4_maj, med_class_model4_maj, test_size=0.2, random_state=43, stratify=med_class_model4_maj)\n",
    "med_class_test_array_maj = np.array(med_class_test_model4_maj)"
   ]
  },
  {
   "cell_type": "markdown",
   "metadata": {},
   "source": [
    "Training der Algorithmen"
   ]
  },
  {
   "cell_type": "code",
   "execution_count": 4,
   "metadata": {},
   "outputs": [
    {
     "data": {
      "text/plain": [
       "XGBClassifier(base_score=0.5, booster='gbtree', colsample_bylevel=1,\n",
       "              colsample_bynode=1, colsample_bytree=1, enable_categorical=False,\n",
       "              eval_metric='mlogloss', gamma=0, gpu_id=-1, importance_type=None,\n",
       "              interaction_constraints='', learning_rate=0.300000012,\n",
       "              max_delta_step=0, max_depth=6, min_child_weight=1, missing=nan,\n",
       "              monotone_constraints='()', n_estimators=75, n_jobs=16,\n",
       "              num_parallel_tree=1, objective='multi:softprob', predictor='auto',\n",
       "              random_state=0, reg_alpha=0, reg_lambda=1, scale_pos_weight=None,\n",
       "              subsample=1, tree_method='exact', validate_parameters=1,\n",
       "              verbosity=None)"
      ]
     },
     "execution_count": 4,
     "metadata": {},
     "output_type": "execute_result"
    }
   ],
   "source": [
    "medKNN_maj = KNeighborsClassifier(n_neighbors=4)\n",
    "medKNN_maj.fit(med_features_train_model4_maj,med_class_train_model4_maj)\n",
    "\n",
    "lr_model_maj = LogisticRegression(solver='newton-cg' ,multi_class='multinomial')\n",
    "lr_model_maj.fit(med_features_train_model4_maj, med_class_train_model4_maj)\n",
    "\n",
    "medical_DecTree_maj = DecisionTreeClassifier(random_state=15)\n",
    "medical_DecTree_maj.fit(med_features_train_model4_maj, med_class_train_model4_maj)\n",
    "\n",
    "medical_RF_maj = RandomForestClassifier(n_estimators= 100, random_state=15)\n",
    "medical_RF_maj.fit(med_features_train_model4_maj, med_class_train_model4_maj)\n",
    "\n",
    "adamodel_maj = AdaBoostClassifier()\n",
    "adamodel_maj.fit(med_features_train_model4_maj, med_class_train_model4_maj)\n",
    "\n",
    "xgmodel_maj = XGBClassifier(n_estimators=75, eval_metric = 'mlogloss')\n",
    "xgmodel_maj.fit(med_features_train_model4_maj, med_class_train_model4_maj)"
   ]
  },
  {
   "cell_type": "markdown",
   "metadata": {},
   "source": [
    "Algorithmen-Predictions"
   ]
  },
  {
   "cell_type": "code",
   "execution_count": 6,
   "metadata": {},
   "outputs": [
    {
     "name": "stdout",
     "output_type": "stream",
     "text": [
      "[3 7 7 7 7 5 7 5 3 7 5 7 4 5 7 7 7 7 5 5 7 4 3 7 3 4 4 7 7 7 7 4 7 3 7 7 7\n",
      " 7 4 5 4 7 4 3 4 7]\n",
      "[7 7 7 7 7 5 7 4 4 6 4 7 4 5 4 7 7 7 7 7 7 7 5 7 7 5 7 6 7 7 6 5 7 7 4 7 7\n",
      " 7 3 5 6 4 4 3 5 7]\n"
     ]
    }
   ],
   "source": [
    "knnYpred = medKNN_maj.predict(med_features_test_model4_maj)\n",
    "print(knnYpred)\n",
    "\n",
    "lr_y_pred = lr_model_maj.predict(med_features_test_model4_maj)\n",
    "print(lr_y_pred)\n",
    "decTree_pred = medical_DecTree_maj.predict(med_features_test_model4_maj)\n",
    "\n",
    "rfPred = medical_RF_maj.predict(med_features_test_model4_maj)\n",
    "\n",
    "adamodel_prediction = adamodel_maj.predict(med_features_test_model4_maj)\n",
    "\n",
    "xgboosted_prediction = xgmodel_maj.predict(med_features_test_model4_maj)"
   ]
  },
  {
   "cell_type": "markdown",
   "metadata": {},
   "source": [
    "tot = 10, lebend = 1\n",
    "predictions dementsprechend umwandeln. \n",
    "Summe der Einzelvorhersagen bestimmen"
   ]
  },
  {
   "cell_type": "code",
   "execution_count": null,
   "metadata": {},
   "outputs": [],
   "source": [
    "for i in range(0, len(knnYpred)):\n",
    "    if knnYpred[i] < 7:\n",
    "        knnYpred[i] = 10\n",
    "    else:\n",
    "        knnYpred[i] = 1\n",
    "    if lr_y_pred[i] < 7:\n",
    "        lr_y_pred[i] = 10\n",
    "    else:\n",
    "        lr_y_pred[i] = 1 \n",
    "    if decTree_pred[i] < 7:\n",
    "        decTree_pred[i] = 10\n",
    "    else:\n",
    "        decTree_pred[i] = 1 \n",
    "    if rfPred[i] < 7:\n",
    "        rfPred[i] = 10\n",
    "    else:\n",
    "        rfPred[i] = 1 \n",
    "    if adamodel_prediction[i] < 7:\n",
    "        adamodel_prediction[i] = 10\n",
    "    else:\n",
    "        adamodel_prediction[i] = 1 \n",
    "    if xgboosted_prediction[i] < 7:\n",
    "        xgboosted_prediction[i] = 10\n",
    "    else:\n",
    "        xgboosted_prediction[i] = 1"
   ]
  },
  {
   "cell_type": "code",
   "execution_count": null,
   "metadata": {},
   "outputs": [],
   "source": []
  }
 ],
 "metadata": {
  "interpreter": {
   "hash": "949777d72b0d2535278d3dc13498b2535136f6dfe0678499012e853ee9abcab1"
  },
  "kernelspec": {
   "display_name": "Python 3.9.7 64-bit",
   "language": "python",
   "name": "python3"
  },
  "language_info": {
   "codemirror_mode": {
    "name": "ipython",
    "version": 3
   },
   "file_extension": ".py",
   "mimetype": "text/x-python",
   "name": "python",
   "nbconvert_exporter": "python",
   "pygments_lexer": "ipython3",
   "version": "3.9.7"
  },
  "orig_nbformat": 4
 },
 "nbformat": 4,
 "nbformat_minor": 2
}
