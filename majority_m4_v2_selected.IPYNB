{
 "cells": [
  {
   "cell_type": "code",
   "execution_count": 1,
   "metadata": {},
   "outputs": [],
   "source": [
    "import math\n",
    "import warnings\n",
    "import sys\n",
    "from numpy.lib.function_base import average\n",
    "from sklearn.utils import multiclass\n",
    "from xgboost.sklearn import XGBRFClassifier\n",
    "warnings.filterwarnings(\"ignore\")\n",
    "import numpy as np\n",
    "from statistics import mean, mode\n",
    "import pandas as pd\n",
    "import medical_lib as ml\n",
    "from sklearn.model_selection import train_test_split, cross_val_score\n",
    "from sklearn.neighbors import KNeighborsClassifier\n",
    "from sklearn.metrics import accuracy_score\n",
    "from xgboost import XGBClassifier\n",
    "from sklearn.ensemble import AdaBoostClassifier\n",
    "from xgboost import plot_importance\n",
    "from matplotlib import pyplot\n",
    "from xgboost.core import Booster\n",
    "from sklearn.linear_model import LogisticRegression\n",
    "from sklearn import svm\n",
    "from sklearn.tree import DecisionTreeClassifier\n",
    "from sklearn.ensemble import RandomForestClassifier\n",
    "from sklearn.ensemble import IsolationForest\n",
    "from numpy import sort\n",
    "from sklearn.feature_selection import SelectFromModel\n",
    "from sklearn.metrics import precision_score\n",
    "from sklearn.metrics import f1_score\n",
    "from sklearn.metrics import recall_score\n",
    "from sklearn.metrics import precision_recall_fscore_support as score"
   ]
  },
  {
   "cell_type": "markdown",
   "metadata": {},
   "source": [
    "Einlesen der Daten"
   ]
  },
  {
   "cell_type": "code",
   "execution_count": 2,
   "metadata": {},
   "outputs": [],
   "source": [
    "df_majority_m4 = pd.read_csv('model4_v2_Selected.csv') \n",
    "df_majority_m4_copy = df_majority_m4.copy()\n",
    "df_majority_m4_copy = df_majority_m4_copy.iloc[:, 1:]\n",
    "#################################################################################################\n",
    "med_class_model4_maj = df_majority_m4_copy.iloc[:, -1]\n",
    "med_features_model4_maj = df_majority_m4_copy.iloc[:, :-1]\n",
    "\n",
    "# Aufteilen der Daten in 4 Untersets\n",
    "med_features_train_model4_maj, med_features_test_model4_maj, med_class_train_model4_maj, med_class_test_model4_maj = train_test_split(med_features_model4_maj, med_class_model4_maj, test_size=0.2, random_state=43, stratify=med_class_model4_maj)\n",
    "med_class_test_array_maj = np.array(med_class_test_model4_maj)\n",
    "# print(med_features_model4_maj.head())"
   ]
  },
  {
   "cell_type": "markdown",
   "metadata": {},
   "source": [
    "Training der Algorithmen"
   ]
  },
  {
   "cell_type": "code",
   "execution_count": 3,
   "metadata": {},
   "outputs": [
    {
     "data": {
      "text/plain": [
       "XGBClassifier(base_score=0.5, booster='gbtree', colsample_bylevel=1,\n",
       "              colsample_bynode=1, colsample_bytree=1, enable_categorical=False,\n",
       "              eval_metric='mlogloss', gamma=0, gpu_id=-1, importance_type=None,\n",
       "              interaction_constraints='', learning_rate=0.300000012,\n",
       "              max_delta_step=0, max_depth=6, min_child_weight=1, missing=nan,\n",
       "              monotone_constraints='()', n_estimators=75, n_jobs=16,\n",
       "              num_parallel_tree=1, objective='multi:softprob', predictor='auto',\n",
       "              random_state=0, reg_alpha=0, reg_lambda=1, scale_pos_weight=None,\n",
       "              subsample=1, tree_method='exact', validate_parameters=1,\n",
       "              verbosity=None)"
      ]
     },
     "execution_count": 3,
     "metadata": {},
     "output_type": "execute_result"
    }
   ],
   "source": [
    "medKNN_maj = KNeighborsClassifier(n_neighbors=4)\n",
    "medKNN_maj.fit(med_features_train_model4_maj,med_class_train_model4_maj)\n",
    "\n",
    "lr_model_maj = LogisticRegression(solver='newton-cg' ,multi_class='multinomial')\n",
    "lr_model_maj.fit(med_features_train_model4_maj, med_class_train_model4_maj)\n",
    "\n",
    "medical_DecTree_maj = DecisionTreeClassifier(random_state=15)\n",
    "medical_DecTree_maj.fit(med_features_train_model4_maj, med_class_train_model4_maj)\n",
    "\n",
    "medical_RF_maj = RandomForestClassifier(n_estimators= 100, random_state=15)\n",
    "medical_RF_maj.fit(med_features_train_model4_maj, med_class_train_model4_maj)\n",
    "\n",
    "adamodel_maj = AdaBoostClassifier()\n",
    "adamodel_maj.fit(med_features_train_model4_maj, med_class_train_model4_maj)\n",
    "\n",
    "xgmodel_maj = XGBClassifier(n_estimators=75, eval_metric = 'mlogloss')\n",
    "xgmodel_maj.fit(med_features_train_model4_maj, med_class_train_model4_maj)"
   ]
  },
  {
   "cell_type": "markdown",
   "metadata": {},
   "source": [
    "Algorithmen-Predictions"
   ]
  },
  {
   "cell_type": "code",
   "execution_count": 4,
   "metadata": {},
   "outputs": [
    {
     "name": "stdout",
     "output_type": "stream",
     "text": [
      "knn:  [3 7 7 7 7 5 7 5 3 7 5 7 4 5 7 7 7 7 5 5 7 4 3 7 3 4 4 7 7 7 7 4 7 3 7 7 7\n",
      " 7 4 5 4 7 4 3 4 7]\n",
      "LogReg:  [7 7 7 7 7 5 7 4 4 6 4 7 4 5 4 7 7 7 7 7 7 7 5 7 7 5 7 6 7 7 6 5 7 7 4 7 7\n",
      " 7 3 5 6 4 4 3 5 7]\n",
      "DecTree:  [7 7 7 7 7 3 7 5 7 6 4 7 4 4 7 7 4 7 7 7 7 6 4 5 7 7 7 5 7 5 3 7 7 7 3 7 7\n",
      " 5 5 5 7 3 4 5 6 7]\n",
      "RF:  [7 7 7 7 7 3 7 5 5 5 4 7 4 5 7 7 7 7 4 7 7 5 5 7 5 7 7 5 7 4 4 5 7 7 3 7 7\n",
      " 7 4 3 4 4 4 5 7 7]\n",
      "ADA:  [7 7 7 7 7 6 4 4 7 4 5 7 5 5 7 7 5 7 6 7 7 5 6 7 4 4 7 4 4 4 4 4 7 7 7 7 7\n",
      " 4 4 4 6 4 4 3 7 7]\n",
      "XGB:  [7 7 7 7 7 3 7 4 7 5 4 7 4 4 7 7 4 7 4 7 7 4 4 7 5 3 7 6 7 4 4 5 7 7 5 7 7\n",
      " 4 4 3 5 4 4 3 7 7]\n",
      "Actual:  [7 7 7 7 7 7 7 4 5 7 3 7 5 4 6 7 4 7 4 6 7 5 5 7 4 5 7 3 7 3 5 7 7 7 5 7 7\n",
      " 6 5 3 5 7 7 4 4 7]\n"
     ]
    }
   ],
   "source": [
    "knnYpred = medKNN_maj.predict(med_features_test_model4_maj)\n",
    "print('knn: ', knnYpred)\n",
    "lr_y_pred = lr_model_maj.predict(med_features_test_model4_maj)\n",
    "print('LogReg: ', lr_y_pred)\n",
    "decTree_pred = medical_DecTree_maj.predict(med_features_test_model4_maj)\n",
    "print('DecTree: ', decTree_pred)\n",
    "rfPred = medical_RF_maj.predict(med_features_test_model4_maj)\n",
    "print('RF: ', rfPred)\n",
    "adamodel_prediction = adamodel_maj.predict(med_features_test_model4_maj)\n",
    "print('ADA: ', adamodel_prediction)\n",
    "xgboosted_prediction = xgmodel_maj.predict(med_features_test_model4_maj)\n",
    "print('XGB: ', xgboosted_prediction)\n",
    "print('Actual: ', med_class_test_array_maj)"
   ]
  },
  {
   "cell_type": "markdown",
   "metadata": {},
   "source": [
    "tot = 10, lebend = 1\n",
    "predictions dementsprechend umwandeln. \n",
    "Summe der Einzelvorhersagen bestimmen"
   ]
  },
  {
   "cell_type": "code",
   "execution_count": 5,
   "metadata": {},
   "outputs": [],
   "source": [
    "for i in range(0, len(knnYpred)):\n",
    "    if knnYpred[i] < 7:\n",
    "        knnYpred[i] = 10\n",
    "    else:\n",
    "        knnYpred[i] = 1\n",
    "    if lr_y_pred[i] < 7:\n",
    "        lr_y_pred[i] = 10\n",
    "    else:\n",
    "        lr_y_pred[i] = 1 \n",
    "    if decTree_pred[i] < 7:\n",
    "        decTree_pred[i] = 10\n",
    "    else:\n",
    "        decTree_pred[i] = 1 \n",
    "    if rfPred[i] < 7:\n",
    "        rfPred[i] = 10\n",
    "    else:\n",
    "        rfPred[i] = 1 \n",
    "    if adamodel_prediction[i] < 7:\n",
    "        adamodel_prediction[i] = 10\n",
    "    else:\n",
    "        adamodel_prediction[i] = 1 \n",
    "    if xgboosted_prediction[i] < 7:\n",
    "        xgboosted_prediction[i] = 10\n",
    "    else:\n",
    "        xgboosted_prediction[i] = 1"
   ]
  },
  {
   "cell_type": "code",
   "execution_count": 6,
   "metadata": {},
   "outputs": [
    {
     "name": "stdout",
     "output_type": "stream",
     "text": [
      "[15, 6, 6, 6, 6, 60, 15, 60, 33, 51, 60, 6, 60, 60, 15, 6, 33, 6, 42, 15, 6, 51, 60, 15, 42, 42, 15, 51, 15, 42, 51, 51, 6, 15, 42, 6, 6, 33, 60, 60, 51, 51, 60, 60, 33, 6]\n"
     ]
    }
   ],
   "source": [
    "sumlist = []\n",
    "for i in range(0, len(knnYpred)):\n",
    "    sum = knnYpred[i] + lr_y_pred[i] + decTree_pred[i] + rfPred[i] + adamodel_prediction[i] + xgboosted_prediction[i]\n",
    "    sumlist.append(sum)\n",
    "print(sumlist)"
   ]
  },
  {
   "cell_type": "markdown",
   "metadata": {},
   "source": [
    "Unentschlossen = 100"
   ]
  },
  {
   "cell_type": "code",
   "execution_count": 7,
   "metadata": {},
   "outputs": [
    {
     "name": "stdout",
     "output_type": "stream",
     "text": [
      "Majority:  [0, 0, 0, 0, 0, 1, 0, 1, 100, 1, 1, 0, 1, 1, 0, 0, 100, 0, 1, 0, 0, 1, 1, 0, 1, 1, 0, 1, 0, 1, 1, 1, 0, 0, 1, 0, 0, 100, 1, 1, 1, 1, 1, 1, 100, 0]\n",
      "Actual:  [0, 0, 0, 0, 0, 0, 0, 1, 1, 0, 1, 0, 1, 1, 1, 0, 1, 0, 1, 1, 0, 1, 1, 0, 1, 1, 0, 1, 0, 1, 1, 0, 0, 0, 1, 0, 0, 1, 1, 1, 1, 0, 0, 1, 1, 0]\n"
     ]
    }
   ],
   "source": [
    "sumlist1 = []\n",
    "for i in range(0, len(sumlist)):\n",
    "    if sumlist[i] <= 24:\n",
    "        sumlist1.append(0)\n",
    "    if sumlist[i] > 33:\n",
    "        sumlist1.append(1)\n",
    "    if sumlist[i] == 33:\n",
    "        sumlist1.append(100)\n",
    "print('Majority: ', sumlist1)\n",
    "actual = []\n",
    "for k in range(0, len(med_class_test_array_maj)):\n",
    "    if med_class_test_array_maj[k] < 7:\n",
    "        actual.append(1)\n",
    "    else:\n",
    "        actual.append(0)\n",
    "print('Actual: ', actual)"
   ]
  },
  {
   "cell_type": "code",
   "execution_count": 8,
   "metadata": {},
   "outputs": [
    {
     "name": "stdout",
     "output_type": "stream",
     "text": [
      "0.7608695652173914 0.7727272727272727 0.7391304347826086 0.7555555555555555\n"
     ]
    }
   ],
   "source": [
    "accuracy, precision, recall, f1score = ml.scoring(sumlist1, actual)\n",
    "print(accuracy, precision, recall, f1score)"
   ]
  },
  {
   "cell_type": "code",
   "execution_count": 9,
   "metadata": {},
   "outputs": [
    {
     "name": "stdout",
     "output_type": "stream",
     "text": [
      "  CMV-DNA M-AZ CRP M-BL  IL-6 BK-PCR M-MY  LDH37 BILI M-MT  ...  IPF   HST  \\\n",
      "0       0    0   0    0  2.29      0    0  186.0    0    0  ...  3.1  57.0   \n",
      "\n",
      "  NRBC-ABS IG-ABS IG-REL BA-ABS CALPH1-N CHE37    HK    HB  \n",
      "0     0.03   0.03    0.5   0.03      5.3  7935  39.6  11.5  \n",
      "\n",
      "[1 rows x 23 columns]\n"
     ]
    }
   ],
   "source": [
    "p = pd.DataFrame(columns=['CMV-DNA', 'M-AZ', 'CRP', 'M-BL', 'IL-6', 'BK-PCR', 'M-MY', 'LDH37',\n",
    "       'BILI', 'M-MT', 'M-NRBC', 'FERR', 'GPT37', 'IPF', 'HST', 'NRBC-ABS',\n",
    "       'IG-ABS', 'IG-REL', 'BA-ABS', 'CALPH1-N', 'CHE37', 'HK', 'HB'])\n",
    "p.at[0, 'CMV-DNA'] = 0\n",
    "p.at[0, 'M-AZ'] = 0\n",
    "p.at[0, 'CRP'] = 0\n",
    "p.at[0, 'M-BL'] = 0\n",
    "p.at[0, 'IL-6'] = 2.29\n",
    "p.at[0, 'BK-PCR'] = 0\n",
    "p.at[0, 'M-MY'] = 0\n",
    "p.at[0, 'LDH37'] = 186.0\n",
    "p.at[0, 'BILI'] = 0\n",
    "p.at[0, 'M-MT'] = 0\n",
    "p.at[0, 'M-NRBC'] = 0\n",
    "p.at[0, 'FERR'] = 18.0\n",
    "p.at[0, 'GPT37'] = 8.0\n",
    "p.at[0, 'IPF'] = 3.1\n",
    "p.at[0, 'HST'] = 57.0\n",
    "p.at[0, 'NRBC-ABS'] = 0.03\n",
    "p.at[0, 'IG-ABS'] = 0.03\n",
    "p.at[0, 'IG-REL'] = 0.5\n",
    "p.at[0, 'BA-ABS'] = 0.03\n",
    "p.at[0, 'CALPH1-N'] = 5.3\n",
    "p.at[0, 'CHE37'] = 7935\n",
    "p.at[0, 'HK'] = 39.6\n",
    "p.at[0, 'HB'] = 11.5\n",
    "\n",
    "print(p.head())"
   ]
  },
  {
   "cell_type": "code",
   "execution_count": 10,
   "metadata": {},
   "outputs": [
    {
     "name": "stdout",
     "output_type": "stream",
     "text": [
      "knn:  [7]\n",
      "LogReg:  [7]\n",
      "DecTree:  [7]\n",
      "RF:  [7]\n",
      "ADA:  [5]\n",
      "XGB:  [7]\n"
     ]
    }
   ],
   "source": [
    "knnYpred = medKNN_maj.predict(p)\n",
    "print('knn: ', knnYpred)\n",
    "lr_y_pred = lr_model_maj.predict(p)\n",
    "print('LogReg: ', lr_y_pred)\n",
    "decTree_pred = medical_DecTree_maj.predict(p)\n",
    "print('DecTree: ', decTree_pred)\n",
    "rfPred = medical_RF_maj.predict(p)\n",
    "print('RF: ', rfPred)\n",
    "adamodel_prediction = adamodel_maj.predict(p)\n",
    "print('ADA: ', adamodel_prediction)\n",
    "xgboosted_prediction = xgmodel_maj.predict(p)\n",
    "print('XGB: ', xgboosted_prediction)\n"
   ]
  }
 ],
 "metadata": {
  "interpreter": {
   "hash": "949777d72b0d2535278d3dc13498b2535136f6dfe0678499012e853ee9abcab1"
  },
  "kernelspec": {
   "display_name": "Python 3.9.7 64-bit",
   "language": "python",
   "name": "python3"
  },
  "language_info": {
   "codemirror_mode": {
    "name": "ipython",
    "version": 3
   },
   "file_extension": ".py",
   "mimetype": "text/x-python",
   "name": "python",
   "nbconvert_exporter": "python",
   "pygments_lexer": "ipython3",
   "version": "3.9.7"
  },
  "orig_nbformat": 4
 },
 "nbformat": 4,
 "nbformat_minor": 2
}
