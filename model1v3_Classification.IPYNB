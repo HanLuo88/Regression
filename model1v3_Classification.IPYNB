{
 "cells": [
  {
   "cell_type": "code",
   "execution_count": 144,
   "metadata": {},
   "outputs": [],
   "source": [
    "import math\n",
    "import warnings\n",
    "warnings.filterwarnings(\"ignore\")\n",
    "import numpy as np\n",
    "import pandas as pd\n",
    "import medical_lib as ml\n",
    "from sklearn.neighbors import KNeighborsClassifier\n",
    "from sklearn.metrics import accuracy_score\n",
    "from xgboost import XGBClassifier\n",
    "from matplotlib import pyplot\n",
    "from sklearn.linear_model import LogisticRegression\n",
    "from sklearn.tree import DecisionTreeClassifier\n",
    "from sklearn.ensemble import RandomForestClassifier\n",
    "from sklearn.ensemble import AdaBoostClassifier\n",
    "from sklearn.metrics import precision_score\n",
    "from sklearn.metrics import f1_score\n",
    "from sklearn.metrics import recall_score\n",
    "from xgboost import plot_importance\n",
    "\n"
   ]
  },
  {
   "cell_type": "markdown",
   "metadata": {},
   "source": [
    "Einlesen der Trainings-Daten"
   ]
  },
  {
   "cell_type": "code",
   "execution_count": 145,
   "metadata": {},
   "outputs": [],
   "source": [
    "traindata = pd.read_csv('model1v3train_Filled_selection.csv') #model1v3train_Filled\n",
    "traindata = traindata.iloc[:, 1:] #1\n",
    "traindata = traindata.sample(frac=1, random_state=42).reset_index(drop=True) #Shuffle Rows and Reset Index\n",
    "train_features = traindata.iloc[:, :-1]\n",
    "train_class = traindata.iloc[:, -1]"
   ]
  },
  {
   "cell_type": "markdown",
   "metadata": {},
   "source": [
    "Einlesen der Test-Daten"
   ]
  },
  {
   "cell_type": "code",
   "execution_count": 146,
   "metadata": {},
   "outputs": [],
   "source": [
    "testdata = pd.read_csv('model1v3test_Filled_selection.csv') #model1v3test_Filled\n",
    "testdata = testdata.iloc[:, 1:] #3\n",
    "testdata = testdata.sample(frac=1, random_state=42).reset_index(drop=True)\n",
    "\n",
    "test_features = testdata.iloc[:, :-1]\n",
    "test_class = testdata.iloc[:, -1]"
   ]
  },
  {
   "cell_type": "markdown",
   "metadata": {},
   "source": [
    "KNN:\n",
    "Training"
   ]
  },
  {
   "cell_type": "code",
   "execution_count": 147,
   "metadata": {},
   "outputs": [
    {
     "data": {
      "text/plain": [
       "KNeighborsClassifier(n_neighbors=4)"
      ]
     },
     "execution_count": 147,
     "metadata": {},
     "output_type": "execute_result"
    }
   ],
   "source": [
    "medKNN = KNeighborsClassifier(n_neighbors=4)\n",
    "medKNN.fit(train_features,train_class)"
   ]
  },
  {
   "cell_type": "markdown",
   "metadata": {},
   "source": [
    "KNN:\n",
    "Prediction"
   ]
  },
  {
   "cell_type": "code",
   "execution_count": 148,
   "metadata": {},
   "outputs": [
    {
     "name": "stdout",
     "output_type": "stream",
     "text": [
      "KNN Accuracy:  0.651685393258427 KNN Precision:  0.04938271604938271 KNN Recall:  0.2 KNN F1-Score:  0.07920792079207921\n"
     ]
    }
   ],
   "source": [
    "knnYpred = medKNN.predict(test_features)\n",
    "accuracyKNN = accuracy_score(test_class, knnYpred)\n",
    "precisionKNN = precision_score(test_class, knnYpred)\n",
    "recallKNN = recall_score(test_class, knnYpred)\n",
    "f1scoreKNN = f1_score(test_class, knnYpred)\n",
    "print('KNN Accuracy: ', accuracyKNN, 'KNN Precision: ', precisionKNN, 'KNN Recall: ', recallKNN, 'KNN F1-Score: ', f1scoreKNN )"
   ]
  },
  {
   "cell_type": "markdown",
   "metadata": {},
   "source": [
    "Logistic Regression: Training"
   ]
  },
  {
   "cell_type": "code",
   "execution_count": 149,
   "metadata": {},
   "outputs": [
    {
     "data": {
      "text/plain": [
       "LogisticRegression()"
      ]
     },
     "execution_count": 149,
     "metadata": {},
     "output_type": "execute_result"
    }
   ],
   "source": [
    "lr_model = LogisticRegression()\n",
    "lr_model.fit(train_features, train_class)"
   ]
  },
  {
   "cell_type": "markdown",
   "metadata": {},
   "source": [
    "Logistic Regression: Prediction"
   ]
  },
  {
   "cell_type": "code",
   "execution_count": 150,
   "metadata": {},
   "outputs": [
    {
     "name": "stdout",
     "output_type": "stream",
     "text": [
      "Log-Regression Accuracy:  0.6179775280898876 Log-Regression Precision:  0.06382978723404255 Log-Regression Recall:  0.3 Log-Regression F1-Score:  0.10526315789473684\n"
     ]
    }
   ],
   "source": [
    "lr_y_pred = lr_model.predict(test_features)\n",
    "lr_accuracyLogReg = accuracy_score(test_class, lr_y_pred)\n",
    "lr_precisionLogReg = precision_score(test_class, lr_y_pred)\n",
    "lr_recallLogReg = recall_score(test_class, lr_y_pred)\n",
    "lr_f1scoreLogReg = f1_score(test_class, lr_y_pred)\n",
    "print('Log-Regression Accuracy: ', lr_accuracyLogReg, 'Log-Regression Precision: ', lr_precisionLogReg, 'Log-Regression Recall: ', lr_recallLogReg, 'Log-Regression F1-Score: ', lr_f1scoreLogReg )"
   ]
  },
  {
   "cell_type": "markdown",
   "metadata": {},
   "source": [
    "Decision Tree: Training"
   ]
  },
  {
   "cell_type": "code",
   "execution_count": 151,
   "metadata": {},
   "outputs": [],
   "source": [
    "medical_DecTree = DecisionTreeClassifier(random_state=15)\n",
    "medical_DecTree = medical_DecTree.fit(train_features, train_class)"
   ]
  },
  {
   "cell_type": "markdown",
   "metadata": {},
   "source": [
    "Decision Tree: Prediction"
   ]
  },
  {
   "cell_type": "code",
   "execution_count": 152,
   "metadata": {},
   "outputs": [
    {
     "name": "stdout",
     "output_type": "stream",
     "text": [
      "medical_DecTree Accuracy:  0.24344569288389514 DecTree Precision:  0.07476635514018691 DecTree Recall:  0.8 DecTree F1-Score:  0.13675213675213674\n"
     ]
    }
   ],
   "source": [
    "decTree_pred = medical_DecTree.predict(test_features)\n",
    "accuracyDecTree = accuracy_score(test_class, decTree_pred)\n",
    "precisionDecTree = precision_score(test_class, decTree_pred)\n",
    "recallDecTree = recall_score(test_class, decTree_pred)\n",
    "f1scoreDecTree = f1_score(test_class, decTree_pred)\n",
    "print('medical_DecTree Accuracy: ', accuracyDecTree, 'DecTree Precision: ', precisionDecTree, 'DecTree Recall: ', recallDecTree, 'DecTree F1-Score: ', f1scoreDecTree )\n"
   ]
  },
  {
   "cell_type": "markdown",
   "metadata": {},
   "source": [
    "Random Forest: Training"
   ]
  },
  {
   "cell_type": "code",
   "execution_count": 153,
   "metadata": {},
   "outputs": [
    {
     "data": {
      "text/plain": [
       "RandomForestClassifier(random_state=43)"
      ]
     },
     "execution_count": 153,
     "metadata": {},
     "output_type": "execute_result"
    }
   ],
   "source": [
    "medical_RF = RandomForestClassifier(random_state=43)\n",
    "medical_RF.fit(train_features, train_class)"
   ]
  },
  {
   "cell_type": "markdown",
   "metadata": {},
   "source": [
    "Random Forest: Prediction"
   ]
  },
  {
   "cell_type": "code",
   "execution_count": 154,
   "metadata": {},
   "outputs": [
    {
     "name": "stdout",
     "output_type": "stream",
     "text": [
      "Anzahl Estimator: 100  RF Accuracy:  0.299625468164794 RF Precision:  0.053475935828877004 RF Recall:  0.5 RF F1-Score:  0.0966183574879227\n"
     ]
    }
   ],
   "source": [
    "rfPred = medical_RF.predict(test_features)\n",
    "accuracyRF = accuracy_score(test_class, rfPred)\n",
    "precisionRF = precision_score(test_class, rfPred)\n",
    "recallRF = recall_score(test_class, rfPred)\n",
    "f1scoreRF = f1_score(test_class, rfPred)\n",
    "print('Anzahl Estimator: 100 ', 'RF Accuracy: ', accuracyRF, 'RF Precision: ', precisionRF, 'RF Recall: ', recallRF, 'RF F1-Score: ', f1scoreRF )"
   ]
  },
  {
   "cell_type": "markdown",
   "metadata": {},
   "source": [
    "ADABoost: Training"
   ]
  },
  {
   "cell_type": "code",
   "execution_count": 155,
   "metadata": {},
   "outputs": [
    {
     "data": {
      "text/plain": [
       "AdaBoostClassifier()"
      ]
     },
     "execution_count": 155,
     "metadata": {},
     "output_type": "execute_result"
    }
   ],
   "source": [
    "adamodel = AdaBoostClassifier()\n",
    "adamodel.fit(train_features, train_class)"
   ]
  },
  {
   "cell_type": "markdown",
   "metadata": {},
   "source": [
    "ADABoost: Prediction"
   ]
  },
  {
   "cell_type": "code",
   "execution_count": 156,
   "metadata": {},
   "outputs": [
    {
     "name": "stdout",
     "output_type": "stream",
     "text": [
      "ADABOOST:  Accuracy:  0.5168539325842697 Precision:  0.09022556390977443 Recall:  0.6 f1-Score:  0.1568627450980392\n"
     ]
    }
   ],
   "source": [
    "adamodel_prediction = adamodel.predict(test_features)\n",
    "adamodel_accuracy = accuracy_score(test_class, adamodel_prediction)\n",
    "adamodel_precision = precision_score(test_class, adamodel_prediction)\n",
    "adamodel_recall = recall_score(test_class, adamodel_prediction)\n",
    "adamodel_f1 = f1_score(test_class, adamodel_prediction)\n",
    "print('ADABOOST: ', 'Accuracy: ', adamodel_accuracy,'Precision: ', adamodel_precision,'Recall: ', adamodel_recall,'f1-Score: ', adamodel_f1)"
   ]
  },
  {
   "cell_type": "markdown",
   "metadata": {},
   "source": [
    "XGBoost: Training"
   ]
  },
  {
   "cell_type": "code",
   "execution_count": 157,
   "metadata": {},
   "outputs": [
    {
     "data": {
      "text/plain": [
       "XGBClassifier(base_score=0.5, booster='gbtree', colsample_bylevel=1,\n",
       "              colsample_bynode=1, colsample_bytree=1, enable_categorical=False,\n",
       "              eval_metric='error', gamma=0, gpu_id=-1, importance_type=None,\n",
       "              interaction_constraints='', learning_rate=0.300000012,\n",
       "              max_delta_step=0, max_depth=6, min_child_weight=1, missing=nan,\n",
       "              monotone_constraints='()', n_estimators=100, n_jobs=16,\n",
       "              num_parallel_tree=1, predictor='auto', random_state=0,\n",
       "              reg_alpha=0, reg_lambda=1, scale_pos_weight=1, subsample=1,\n",
       "              tree_method='exact', validate_parameters=1, verbosity=None)"
      ]
     },
     "execution_count": 157,
     "metadata": {},
     "output_type": "execute_result"
    }
   ],
   "source": [
    "xgmodel = XGBClassifier(eval_metric='error')\n",
    "xgmodel.fit(train_features, train_class)"
   ]
  },
  {
   "cell_type": "markdown",
   "metadata": {},
   "source": [
    "XGBoost: Prediction"
   ]
  },
  {
   "cell_type": "code",
   "execution_count": 158,
   "metadata": {},
   "outputs": [
    {
     "name": "stdout",
     "output_type": "stream",
     "text": [
      "XGBOOST:  Accuracy:  0.5093632958801498 Precision:  0.07633587786259542 Recall:  0.5 F1-Score:  0.13245033112582782\n"
     ]
    }
   ],
   "source": [
    "xgboosted_prediction = xgmodel.predict(test_features)\n",
    "xgboosted_accuracy = accuracy_score(test_class, xgboosted_prediction)\n",
    "xgboosted_precision = precision_score(test_class, xgboosted_prediction)\n",
    "xgboosted_recall = recall_score(test_class, xgboosted_prediction)\n",
    "xgboosted_f1 = f1_score(test_class, xgboosted_prediction)\n",
    "print('XGBOOST: ', 'Accuracy: ', xgboosted_accuracy, 'Precision: ', xgboosted_precision, 'Recall: ', xgboosted_recall, 'F1-Score: ', xgboosted_f1)"
   ]
  },
  {
   "cell_type": "markdown",
   "metadata": {},
   "source": [
    "XGBoost Featuregain plot"
   ]
  },
  {
   "cell_type": "code",
   "execution_count": 160,
   "metadata": {},
   "outputs": [],
   "source": [
    "featureranking = sorted((value, key) for (key, value) in xgmodel.get_booster().get_score(importance_type = 'gain').items())\n",
    "pyplot.rcParams['figure.figsize'] = [15,15]\n",
    "features = []\n",
    "for el in featureranking:\n",
    "    features.append(el[1])\n",
    "features.append('Status')\n",
    "# print(features)\n",
    "# plot_importance(xgmodel.get_booster().get_score(importance_type= 'gain'))\n",
    "# pyplot.show()"
   ]
  },
  {
   "cell_type": "markdown",
   "metadata": {},
   "source": [
    "XGBoost: Feature Selection"
   ]
  },
  {
   "cell_type": "code",
   "execution_count": 122,
   "metadata": {},
   "outputs": [],
   "source": [
    "traindata1 = traindata.loc[:, features]\n",
    "traindata1.to_csv('model1v3train_Filled_selection.csv')\n",
    "testdata1 = testdata.loc[:, features]\n",
    "testdata1.to_csv('model1v3test_Filled_selection.csv')"
   ]
  }
 ],
 "metadata": {
  "interpreter": {
   "hash": "949777d72b0d2535278d3dc13498b2535136f6dfe0678499012e853ee9abcab1"
  },
  "kernelspec": {
   "display_name": "Python 3.9.7 64-bit",
   "language": "python",
   "name": "python3"
  },
  "language_info": {
   "codemirror_mode": {
    "name": "ipython",
    "version": 3
   },
   "file_extension": ".py",
   "mimetype": "text/x-python",
   "name": "python",
   "nbconvert_exporter": "python",
   "pygments_lexer": "ipython3",
   "version": "3.9.7"
  },
  "orig_nbformat": 4
 },
 "nbformat": 4,
 "nbformat_minor": 2
}
